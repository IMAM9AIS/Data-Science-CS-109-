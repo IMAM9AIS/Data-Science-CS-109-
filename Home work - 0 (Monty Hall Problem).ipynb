{
 "cells": [
  {
   "cell_type": "code",
   "execution_count": 3,
   "metadata": {},
   "outputs": [],
   "source": [
    "import numpy as np #working with arrays\n",
    "import scipy as sp #numerical algorithms\n",
    "import pandas as pd #data frames stuff\n",
    "import matplotlib #plotting\n",
    "import sklearn; #machine learning algorithms\n",
    "import requests; #data from web\n",
    "import networkx as nx #working with networks\n",
    "import bs4 #working with html\n",
    "import seaborn #library for visualization"
   ]
  },
  {
   "cell_type": "code",
   "execution_count": 8,
   "metadata": {},
   "outputs": [
    {
     "data": {
      "text/plain": [
       "<matplotlib.text.Text at 0x7fb9fd0b8210>"
      ]
     },
     "execution_count": 8,
     "metadata": {},
     "output_type": "execute_result"
    },
    {
     "data": {
      "image/png": "[encoded data removed]",
      "text/plain": [
       "<matplotlib.figure.Figure at 0x7fb9fd0f8310>"
      ]
     },
     "metadata": {},
     "output_type": "display_data"
    }
   ],
   "source": [
    "#for inline plots\n",
    "%matplotlib inline \n",
    "import matplotlib.pyplot as plt\n",
    "\n",
    "x = np.linspace(0,10,30)  #array of 30 points from 0 to 10\n",
    "y = np.sin(x) #sine function\n",
    "z = y+ np.random.normal(size=30)*.2 #adding noise to the output\n",
    "plt.plot(x,y,'ro-',label = \"Normal sine function\")\n",
    "plt.plot(x,z,'b-',label = \"Sine+ some noise\")\n",
    "plt.legend(loc = 'lower right')\n",
    "plt.xlabel(\"X axis\")\n",
    "plt.ylabel(\"Y axis\")\n"
   ]
  },
  {
   "cell_type": "code",
   "execution_count": 14,
   "metadata": {},
   "outputs": [
    {
     "name": "stdout",
     "output_type": "stream",
     "text": [
      "[[ 0.05221274  0.42717921  0.3295821   0.23158628]\n",
      " [ 0.46958759  0.68585659  0.04217326  0.38737713]\n",
      " [ 0.28919299  0.01184879  0.97267792  0.33785505]]\n"
     ]
    }
   ],
   "source": [
    "x = np.random.random((3,4)) #generates a 3*4 column array of random numbers\n",
    "print x  "
   ]
  },
  {
   "cell_type": "code",
   "execution_count": 17,
   "metadata": {},
   "outputs": [
    {
     "name": "stdout",
     "output_type": "stream",
     "text": [
      "0.972677916023\n",
      "0.0118487913715\n",
      "0.353094137141\n"
     ]
    }
   ],
   "source": [
    "print x.max() \n",
    "print x.min() \n",
    "print x.mean() "
   ]
  },
  {
   "cell_type": "code",
   "execution_count": 18,
   "metadata": {},
   "outputs": [
    {
     "data": {
      "text/plain": [
       "array([ 0.42717921,  0.68585659,  0.97267792])"
      ]
     },
     "execution_count": 18,
     "metadata": {},
     "output_type": "execute_result"
    }
   ],
   "source": [
    "x.max(axis=1) #row wise"
   ]
  },
  {
   "cell_type": "code",
   "execution_count": 20,
   "metadata": {
    "collapsed": true
   },
   "outputs": [],
   "source": [
    "x = np.random.binomial(500,0.5)"
   ]
  },
  {
   "cell_type": "code",
   "execution_count": 34,
   "metadata": {},
   "outputs": [
    {
     "data": {
      "text/plain": [
       "(array([   6.,   18.,   35.,   76.,   83.,  130.,   79.,   39.,   23.,   11.]),\n",
       " array([ 218. ,  224.2,  230.4,  236.6,  242.8,  249. ,  255.2,  261.4,\n",
       "         267.6,  273.8,  280. ]),\n",
       " <a list of 10 Patch objects>)"
      ]
     },
     "execution_count": 34,
     "metadata": {},
     "output_type": "execute_result"
    },
    {
     "data": {
      "image/png": "[encoded data removed]",
      "text/plain": [
       "<matplotlib.figure.Figure at 0x7fb9fc9d9910>"
      ]
     },
     "metadata": {},
     "output_type": "display_data"
    }
   ],
   "source": [
    "y = [];\n",
    "\n",
    "[y.append(np.random.binomial(500,0.5)) for i in range(500)]\n",
    "plt.hist(y)"
   ]
  },
  {
   "cell_type": "code",
   "execution_count": 38,
   "metadata": {},
   "outputs": [],
   "source": [
    "#monty hall problem\n",
    "# In a gameshow, contestants try to guess which of 3 closed doors contain a cash prize (goats are behind the other two doors). Of course, the odds of choosing the correct door are 1 in 3. As a twist, the host of the show occasionally opens a door after a contestant makes his or her choice. This door is always one of the two the contestant did not pick, and is also always one of the goat doors (note that it is always possible to do this, since there are two goat doors). At this point, the contestant has the option of keeping his or her original choice, or swtiching to the other unopened door. The question is: is there any benefit to switching doors? The answer surprises many people who haven't heard the question before."
   ]
  },
  {
   "cell_type": "code",
   "execution_count": 140,
   "metadata": {
    "collapsed": true
   },
   "outputs": [],
   "source": [
    "#simulating prize door\n",
    "def simulate_prizedoor(nsim):\n",
    "    random_array = np.random.randint(low=0,high=3,size=nsim)\n",
    "    return list(random_array)"
   ]
  },
  {
   "cell_type": "code",
   "execution_count": 141,
   "metadata": {},
   "outputs": [
    {
     "data": {
      "text/plain": [
       "[0, 1, 2, 2, 1, 0, 2, 1, 2, 2]"
      ]
     },
     "execution_count": 141,
     "metadata": {},
     "output_type": "execute_result"
    }
   ],
   "source": [
    "simulate_prizedoor(10) #test"
   ]
  },
  {
   "cell_type": "code",
   "execution_count": 142,
   "metadata": {
    "collapsed": true
   },
   "outputs": [],
   "source": [
    "#simulating guess random strategy\n",
    "def simulate_guess(nsim):\n",
    "    guess = []\n",
    "    for i in range(nsim):\n",
    "            guess.append(i%3)\n",
    "    return guess"
   ]
  },
  {
   "cell_type": "code",
   "execution_count": 143,
   "metadata": {},
   "outputs": [
    {
     "data": {
      "text/plain": [
       "[0, 1, 2, 0, 1, 2, 0, 1, 2, 0]"
      ]
     },
     "execution_count": 143,
     "metadata": {},
     "output_type": "execute_result"
    }
   ],
   "source": [
    "simulate_guess(10) #test"
   ]
  },
  {
   "cell_type": "code",
   "execution_count": 144,
   "metadata": {},
   "outputs": [],
   "source": [
    "import random\n",
    "#revealed door simulation\n",
    "def goat_door(prizedoors,guesslist):\n",
    "    open_door = []\n",
    "    for i in range(len(prizedoors)):\n",
    "        selectList = [0,1,2]  \n",
    "        if guesslist[i]==prizedoors[i]:\n",
    "            selectList.remove(guesslist[i])\n",
    "        else:\n",
    "            selectList.remove(guesslist[i])\n",
    "            selectList.remove(prizedoors[i])\n",
    "        open_door.append(random.choice(selectList))\n",
    "    return open_door"
   ]
  },
  {
   "cell_type": "code",
   "execution_count": 145,
   "metadata": {},
   "outputs": [
    {
     "name": "stdout",
     "output_type": "stream",
     "text": [
      "[2, 1, 1, 2, 0, 2, 0, 2, 1, 2]\n",
      "[0, 1, 2, 0, 1, 2, 0, 1, 2, 0]\n",
      "[1, 2, 0, 1, 2, 0, 2, 0, 0, 1]\n"
     ]
    }
   ],
   "source": [
    "#test\n",
    "prizedoors = simulate_prizedoor(10)\n",
    "guesslists = simulate_guess(10)\n",
    "print prizedoors\n",
    "print guesslists\n",
    "print goat_door(prizedoors,guesslists)"
   ]
  },
  {
   "cell_type": "code",
   "execution_count": 148,
   "metadata": {},
   "outputs": [],
   "source": [
    "def switch_guess(guessList,opendoor):\n",
    "    choice = []\n",
    "    for i in range(len(guessList)):\n",
    "        new_choice = list(range(3))\n",
    "        new_choice.remove(guessList[i])\n",
    "        new_choice.remove(opendoor[i])\n",
    "        choice.append(new_choice[0])\n",
    "    return choice\n",
    "\n",
    "        "
   ]
  },
  {
   "cell_type": "code",
   "execution_count": 149,
   "metadata": {},
   "outputs": [
    {
     "name": "stdout",
     "output_type": "stream",
     "text": [
      "[0, 1, 2, 0, 1, 2, 0, 1, 2, 0]\n",
      "[1, 0, 0, 1, 0, 0, 2, 0, 1, 1]\n",
      "[2, 2, 1, 2, 2, 1, 1, 2, 0, 2]\n"
     ]
    }
   ],
   "source": [
    "prizedoors = simulate_prizedoor(10)\n",
    "guesslists = simulate_guess(10)\n",
    "opendoor = goat_door(prizedoors,guesslists)\n",
    "print guesslists\n",
    "print opendoor\n",
    "print switch_guess(guesslists,opendoor)"
   ]
  },
  {
   "cell_type": "code",
   "execution_count": 150,
   "metadata": {},
   "outputs": [],
   "source": [
    "#determining win percentage\n",
    "def win_perentage(guesslist,prizelist):\n",
    "    match = 0\n",
    "    for i in range(len(guesslist)):\n",
    "        match+=(guesslist[i]==prizelist[i])\n",
    "    return (match/(len(guesslist)*1.0))\n",
    "    "
   ]
  },
  {
   "cell_type": "code",
   "execution_count": 151,
   "metadata": {},
   "outputs": [
    {
     "name": "stdout",
     "output_type": "stream",
     "text": [
      "0.3299\n"
     ]
    }
   ],
   "source": [
    "prizedoors = simulate_prizedoor(10000)\n",
    "guesslists = simulate_guess(10000)\n",
    "print win_perentage(guesslists,prizedoors)"
   ]
  },
  {
   "cell_type": "code",
   "execution_count": 163,
   "metadata": {},
   "outputs": [
    {
     "name": "stdout",
     "output_type": "stream",
     "text": [
      "0.3349\n",
      "0.6651\n"
     ]
    }
   ],
   "source": [
    "prizedoors = simulate_prizedoor(10000)\n",
    "guesslists = simulate_guess(10000)\n",
    "opendoor = goat_door(prizedoors,guesslists)\n",
    "newguess = switch_guess(guesslists,opendoor)\n",
    "print win_perentage(guesslists,prizedoors)\n",
    "print win_perentage(newguess,prizedoors)"
   ]
  },
  {
   "cell_type": "code",
   "execution_count": null,
   "metadata": {
    "collapsed": true
   },
   "outputs": [],
   "source": []
  },
  {
   "cell_type": "code",
   "execution_count": null,
   "metadata": {
    "collapsed": true
   },
   "outputs": [],
   "source": []
  }
 ],
 "metadata": {
  "kernelspec": {
   "display_name": "Python 2",
   "language": "python",
   "name": "python2"
  },
  "language_info": {
   "codemirror_mode": {
    "name": "ipython",
    "version": 2
   },
   "file_extension": ".py",
   "mimetype": "text/x-python",
   "name": "python",
   "nbconvert_exporter": "python",
   "pygments_lexer": "ipython2",
   "version": "2.7.13"
  }
 },
 "nbformat": 4,
 "nbformat_minor": 2
}
