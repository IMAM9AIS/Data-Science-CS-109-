{
 "cells": [
  {
   "cell_type": "code",
   "execution_count": 4,
   "metadata": {
    "collapsed": true
   },
   "outputs": [],
   "source": [
    "\"\"\"\n",
    "Here I have tried scraping a job listing website inorder to decide which skill are actually necessay for \n",
    "data scientist positions that are common nowadays.I have taken some of the famous and obivious skills \n",
    "to map my results. Results\n",
    "\n",
    "\n",
    "\"\"\"\n",
    "\n",
    "\n",
    "\n",
    "\n",
    "\n",
    "\n",
    "\n",
    "#"
   ]
  },
  {
   "cell_type": "code",
   "execution_count": null,
   "metadata": {
    "collapsed": true
   },
   "outputs": [],
   "source": [
    "\n",
    "from IPython.display import HTML\n",
    "import numpy as np\n",
    "import urllib2\n",
    "import bs4\n",
    "import time\n",
    "\n",
    "from pandas import Series\n",
    "import pandas as pd\n",
    "from pandas import DataFrame\n",
    "\n",
    "import matplotlib\n",
    "import matplotlib.pyplot as plt\n",
    "%matplotlib inline\n",
    "\n",
    "import seaborn as sns\n",
    "sns.set_context(\"talk\")\n",
    "sns.set_style(\"dark\")\n",
    "\n"
   ]
  },
  {
   "cell_type": "code",
   "execution_count": 10,
   "metadata": {},
   "outputs": [
    {
     "name": "stdout",
     "output_type": "stream",
     "text": [
      "<HTML><HEAD>\n",
      "<TITLE>Access Denied</TITLE>\n",
      "</HEAD><BODY>\n",
      "<H1>Access Denied</H1>\n",
      " \n",
      "You don't have permission to access \"http&#58;&#47;&#47;www&#46;naukri&#46;com&#47;data&#45;scientist&#45;jobs&#45;in&#45;india\" on this server.<P>\n",
      "Reference&#32;&#35;18&#46;a7e0d4d9&#46;1507570461&#46;8eeac25\n",
      "</BODY>\n",
      "</HTML>\n",
      "\n"
     ]
    }
   ],
   "source": [
    "url = 'https://www.naukri.com/data-scientist-jobs-in-india'\n",
    "#source = urllib2.urlopen(url).read()\n",
    "try:\n",
    "    f = urllib2.urlopen(url)\n",
    "except urllib2.HTTPError, e:\n",
    "    print e.fp.read()"
   ]
  },
  {
   "cell_type": "code",
   "execution_count": 39,
   "metadata": {},
   "outputs": [
    {
     "data": {
      "text/plain": [
       "['https://www.naukri.com/job-listings-Data-Scientist-EYGBS-India-Private-Limited-Trivandrum-5-to-10-years-091017005966?src=jobsearchDesk&sid=15075727816467&xp=1',\n",
       " 'https://www.naukri.com/job-listings-Lead-Data-Scientist-Accenture-Solutions-Pvt-Ltd-Bengaluru-4-to-9-years-091017003692?src=jobsearchDesk&sid=15075727816467&xp=2',\n",
       " 'https://www.naukri.com/job-listings-Data-Scientist-Sr-Level-ICs-ManpowerGroup-Services-India-Private-Limited-Bengaluru-10-to-20-years-300917001477?src=jobsearchDesk&sid=15075727816467&xp=3',\n",
       " 'https://www.naukri.com/job-listings-Data-Scientist-Online-Retail-Domain-Mindaquest-Business-Solution-Pvt-Ltd-Delhi-NCR-Bengaluru-5-to-10-years-051017900037?src=jobsearchDesk&sid=15075727816467&xp=4',\n",
       " 'https://www.naukri.com/job-listings-Data-Scientist-Sr-Data-Scientist-Chennai-Yellow-Box-HR-Services-Pvt-Ltd-Chennai-4-to-9-years-140817003244?src=jobsearchDesk&sid=15075727816467&xp=5',\n",
       " 'https://www.naukri.com/job-listings-Data-Scientist-Online-Retail-Domain-Mindaquest-Business-Solution-Pvt-Ltd-Delhi-NCR-Bengaluru-5-to-10-years-041017901331?src=jobsearchDesk&sid=15075727816467&xp=6',\n",
       " 'https://www.naukri.com/job-listings-Senior-Data-Scientist-Terra-Blue-Exploration-Technologies-Pvt-Ltd-Bengaluru-2-to-5-years-091017002634?src=jobsearchDesk&sid=15075727816467&xp=7',\n",
       " 'https://www.naukri.com/job-listings-Deep-Learning-Engineer-Data-Scientist-SAP-India-Pvt-Ltd-Bengaluru-4-to-8-years-310817900433?src=jobsearchDesk&sid=15075727816467&xp=8',\n",
       " 'https://www.naukri.com/job-listings-Data-Analyst-Data-Scientist-SHAKTI-INFOSOLUTIONS-PVT-LTD-Chennai-Anna-Nagar-5-to-10-years-060717002920?src=jobsearchDesk&sid=15075727816467&xp=9',\n",
       " 'https://www.naukri.com/job-listings-Senior-Data-Scientist-Cactus-Communications-Pvt-Ltd-Mumbai-2-to-7-years-220917007027?src=jobsearchDesk&sid=15075727816467&xp=10',\n",
       " 'https://www.naukri.com/job-listings-Data-Scientist-Saisun-Outsourcing-Services-Pvt-Ltd-Bengaluru-HSR-Layout-3-to-8-years-091017001528?src=jobsearchDesk&sid=15075727816467&xp=11',\n",
       " 'https://www.naukri.com/job-listings-Data-Scientist-Aniaaz-Consulting-Private-Limited-Chennai-2-to-4-years-041017001844?src=jobsearchDesk&sid=15075727816467&xp=12',\n",
       " 'https://www.naukri.com/job-listings-Data-Scientist-Peoplefy-Infosolutions-Pvt-Ltd-Pune-4-to-9-years-071017003541?src=jobsearchDesk&sid=15075727816467&xp=13',\n",
       " 'https://www.naukri.com/job-listings-Senior-Data-Scientist-ZS-ZS-ASSOCIATES-Pune-Gurgaon-4-to-9-years-120916003586?src=jobsearchDesk&sid=15075727816467&xp=14',\n",
       " 'https://www.naukri.com/job-listings-Data-Scientist-CONFIDENTIAL-Bengaluru-6-to-10-years-271216901589?src=jobsearchDesk&sid=15075727816467&xp=15',\n",
       " 'https://www.naukri.com/job-listings-Hiring-for-Data-Scientist-7-12-Yrs-Permanent-Bangalore-JConnect-Infotech-Private-Limited-Bengaluru-7-to-12-years-250917000688?src=jobsearchDesk&sid=15075727816467&xp=16',\n",
       " 'https://www.naukri.com/job-listings-Data-Scientist-Big-Data-IDS-Infotech-Ltd-Chandigarh-Mohali-3-to-8-years-100717005034?src=jobsearchDesk&sid=15075727816467&xp=17',\n",
       " 'https://www.naukri.com/job-listings-Data-Scientist-Machine-Learning-nlp-Enterprise-Bot-Startup-Bengaluru-2-to-7-years-061017901247?src=jobsearchDesk&sid=15075727816467&xp=18',\n",
       " 'https://www.naukri.com/job-listings-Senior-Data-Scientist-gNxt-Systems-Noida-4-to-6-years-061017900754?src=jobsearchDesk&sid=15075727816467&xp=19',\n",
       " 'https://www.naukri.com/job-listings-Data-Scientist-Artificial-Intelligence-machine-Learning-Startup-ZipGo-Technologies-Pvt-Ltd-Bengaluru-2-to-5-years-061017900119?src=jobsearchDesk&sid=15075727816467&xp=20',\n",
       " 'https://www.naukri.com/job-listings-Senior-Data-Scientist-Nivaata-Systems-Startup-Bengaluru-2-to-5-years-061017900103?src=jobsearchDesk&sid=15075727816467&xp=21',\n",
       " 'https://www.naukri.com/job-listings-Junior-Data-Science-Scientist-Senior-Data-Scientist-Cloudbyte-Startup-Bengaluru-3-to-8-years-061017900019?src=jobsearchDesk&sid=15075727816467&xp=22',\n",
       " 'https://www.naukri.com/job-listings-Data-Scientist-Applexus-Technologies-P-Ltd-Kochi-Trivandrum-1-to-5-years-061017006900?src=jobsearchDesk&sid=15075727816467&xp=23',\n",
       " 'https://www.naukri.com/job-listings-Data-Scientist-Machine-Learning-Deep-Learning-Mindaquest-Business-Solution-Pvt-Ltd-Delhi-NCR-3-to-6-years-041017901329?src=jobsearchDesk&sid=15075727816467&xp=24',\n",
       " 'https://www.naukri.com/job-listings-Data-Scientist-Product-Startup-IIT-BITS-NIT-IIIT-Houm-Mumbai-2-to-4-years-041017901148?src=jobsearchDesk&sid=15075727816467&xp=25',\n",
       " 'https://www.naukri.com/job-listings-Data-Scientist-Sagacito-Technologies-Delhi-NCR-2-to-7-years-041017900197?src=jobsearchDesk&sid=15075727816467&xp=26',\n",
       " 'https://www.naukri.com/job-listings-Hiring-For-Data-Scientist-7-yrs-Permanent-Bangalore-JConnect-Infotech-Private-Limited-Bengaluru-7-to-12-years-031017006007?src=jobsearchDesk&sid=15075727816467&xp=27',\n",
       " 'https://www.naukri.com/job-listings-Data-Scientist-NALCO-WATER-INDIA-LIMITED-Pune-1-to-5-years-031017005225?src=jobsearchDesk&sid=15075727816467&xp=28',\n",
       " 'https://www.naukri.com/job-listings-Data-Scientist-Intelligence-Platform-R-python-HyrEzy-Talent-Solutions-Delhi-NCR-Gurgaon-3-to-7-years-031017001483?src=jobsearchDesk&sid=15075727816467&xp=29',\n",
       " 'https://www.naukri.com/job-listings-Data-Scientist-Tiger-Analytics-Chennai-4-to-8-years-031017001136?src=jobsearchDesk&sid=15075727816467&xp=30',\n",
       " 'https://www.naukri.com/job-listings-Head-Data-Scientist-Global-Staffing-Partner-Delhi-NCR-6-to-9-years-031017000686?src=jobsearchDesk&sid=15075727816467&xp=31',\n",
       " 'https://www.naukri.com/job-listings-Analytics-Specialist-Data-Scientist-R-python-Predictive-Modelling-TransOrg-Solutions-Services-P-Ltd-Mumbai-Gurgaon-2-to-6-years-300917000171?src=jobsearchDesk&sid=15075727816467&xp=32',\n",
       " 'https://www.naukri.com/job-listings-Data-Scientist-Confidential-Bengaluru-0-to-0-years-280817001313?src=jobsearchDesk&sid=15075727816467&xp=33',\n",
       " 'https://www.naukri.com/job-listings-Chief-senior-Data-Scientist-gNxt-Systems-Delhi-NCR-Noida-10-to-18-years-051017900648?src=jobsearchDesk&sid=15075727816467&xp=34',\n",
       " 'https://www.naukri.com/job-listings-Data-Scientist-Machine-Learning-deep-Learning-Mindaquest-Business-Solution-Pvt-Ltd-Delhi-NCR-3-to-6-years-041017901323?src=jobsearchDesk&sid=15075727816467&xp=35',\n",
       " 'https://www.naukri.com/job-listings-Opening-for-Data-Scientist-Position-Analytics-Firm-Bengaluru-2-to-7-years-041017006554?src=jobsearchDesk&sid=15075727816467&xp=36',\n",
       " 'https://www.naukri.com/job-listings-Big-Data-Scientist-Banking-Financial-Services-Sector-Premium-Delhi-NCR-Mumbai-Bengaluru-Chennai-3-to-8-years-290917901611?src=jobsearchDesk&sid=15075727816467&xp=37',\n",
       " 'https://www.naukri.com/job-listings-Data-Scientist-Sas-sql-spss-Premium-Delhi-NCR-Bengaluru-8-to-12-years-051017900269?src=jobsearchDesk&sid=15075727816467&xp=38',\n",
       " 'https://www.naukri.com/job-listings-Data-Scientist-IT-BPO-Premium-Bengaluru-4-to-8-years-290917901460?src=jobsearchDesk&sid=15075727816467&xp=39',\n",
       " 'https://www.naukri.com/job-listings-Data-Scientist-Python-sql-Catalyst-Bengaluru-2-to-7-years-190417900152?src=jobsearchDesk&sid=15075727816467&xp=40',\n",
       " 'https://www.naukri.com/job-listings-Hiring-for-Data-Scientist-Mumbai-Ace-Recruitment-and-Placment-Consultants-Pvt-Ltd-Mumbai-2-to-6-years-150917007670?src=jobsearchDesk&sid=15075727816467&xp=41',\n",
       " 'https://www.naukri.com/job-listings-Data-Scientist-Data-Mining-machine-Learning-Premium-Delhi-NCR-7-to-12-years-061017901457?src=jobsearchDesk&sid=15075727816467&xp=42',\n",
       " 'https://www.naukri.com/job-listings-Senior-lead-Data-Scientist-Apache-mapreduce-Premium-Bengaluru-3-to-7-years-061017901214?src=jobsearchDesk&sid=15075727816467&xp=43',\n",
       " 'https://www.naukri.com/job-listings-Data-Scientist-Predictive-Analytics-MIS-Premium-Bengaluru-7-to-12-years-061017900833?src=jobsearchDesk&sid=15075727816467&xp=44',\n",
       " 'https://www.naukri.com/job-listings-Lead-Data-Scientist-Apache-spark-Premium-Bengaluru-4-to-7-years-061017900751?src=jobsearchDesk&sid=15075727816467&xp=45',\n",
       " 'https://www.naukri.com/job-listings-Data-Scientist-Machine-Learning-Techniques-Premium-Bengaluru-3-to-6-years-061017900573?src=jobsearchDesk&sid=15075727816467&xp=46',\n",
       " 'https://www.naukri.com/job-listings-Data-Scientist-Based-at-Ahmedabad-United-HR-Solutions-Pvt-Ltd-Ahmedabad-2-to-7-years-061017001457?src=jobsearchDesk&sid=15075727816467&xp=47',\n",
       " 'https://www.naukri.com/job-listings-Data-Scientist-Sas-r-Matlab-Premium-Delhi-NCR-Gurgaon-3-to-6-years-051017901635?src=jobsearchDesk&sid=15075727816467&xp=48',\n",
       " 'https://www.naukri.com/job-listings-Data-Scientist-Pensieve-Startup-Mumbai-5-to-10-years-091017900491?src=jobsearchDesk&sid=15075727816467&xp=49',\n",
       " 'https://www.naukri.com/job-listings-Big-Data-Scientist-Banking-Financial-Services-Sector-Premium-Delhi-NCR-Mumbai-Bengaluru-Chennai-8-to-12-years-290917901618?src=jobsearchDesk&sid=15075727816467&xp=50']"
      ]
     },
     "execution_count": 39,
     "metadata": {},
     "output_type": "execute_result"
    }
   ],
   "source": [
    "url = 'https://www.naukri.com/data-scientist-jobs-in-india'\n",
    "req = urllib2.Request(url, headers={'User-Agent' : \"Magic Browser\"}) \n",
    "source = urllib2.urlopen( req )\n",
    "bs_tree = bs4.BeautifulSoup(source)\n",
    "web_string = bs_tree.find_all('a',attrs={'class':'content'})\n",
    "link_list = []\n",
    "for string_got in web_string :\n",
    "    link_list.append(string_got['href'])\n",
    "\n",
    "\n",
    "\n",
    "\n",
    "\n"
   ]
  },
  {
   "cell_type": "code",
   "execution_count": 25,
   "metadata": {
    "collapsed": true
   },
   "outputs": [],
   "source": [
    "job_count_string = bs_tree.find('span',attrs={'class':'cnt'} ).contents[0]"
   ]
  },
  {
   "cell_type": "code",
   "execution_count": 30,
   "metadata": {
    "collapsed": true
   },
   "outputs": [],
   "source": [
    "job_count = int(job_count_string.split()[-1])\n",
    "base_url = url"
   ]
  },
  {
   "cell_type": "code",
   "execution_count": 42,
   "metadata": {},
   "outputs": [
    {
     "name": "stdout",
     "output_type": "stream",
     "text": [
      "got   500  posting\n"
     ]
    }
   ],
   "source": [
    "#website list 50 postings at a time. Need to scrape 50 at a time\n",
    "\n",
    "num_pages = int(np.ceil(job_count/50.0))\n",
    "#the pages after 10 have entries that are not relevant\n",
    "link_list = []\n",
    "for i in range(10):\n",
    "    url = \"\"\n",
    "    if i==0:\n",
    "        url = base_url\n",
    "    else:\n",
    "        url =  base_url + \"-\" + str(i)\n",
    "    \n",
    "    request =  urllib2.Request(url,headers={'User-Agent' : \"Magic Browser\"})\n",
    "    source =   urllib2.urlopen(request)\n",
    "    bs_tree = bs4.BeautifulSoup(source)\n",
    "    web_string = bs_tree.find_all('a',attrs={'class':'content'})\n",
    "    for string_got in web_string :\n",
    "        link_list.append(string_got['href'])\n",
    "\n",
    "print \"got  \",len(link_list),\" posting\"\n",
    "    "
   ]
  },
  {
   "cell_type": "code",
   "execution_count": 73,
   "metadata": {},
   "outputs": [
    {
     "name": "stdout",
     "output_type": "stream",
     "text": [
      "False\n",
      "  job description        send me jobs like this      roles and responsibility:    the person will be responsible for working on ideas/business problems to develop conceptual prototypes by designing and executing processes related to predictive / analytical modeling, data mining, and research on large scale, complex data sets, using statistical, machine learning, graph modeling, text mining and other modern techniques         key skills required :  \t6-10 years as hands on analytics professional with deep experience and expertise in data preparation, exploratory data analysis, advanced analytical modeling and business visualization.  \tshould be an expert in analytical techniques including machine learning algorithms.  \tshould be very good and hands on in r, python, sas, sql and nosql databases, text mining. \tshould have experience handling big data including structured, unstructured, real time and social data.  \tshould have good knowledge and experience in cloud computing services (microsoft azure ecosystem preferred.)  \tshould have experience handling large and complex analytics assignments as lead data scientist.          also preferred the following as an added advantage:           neural networks, deep learning and advanced ai concepts.         application development in java or c#         previous experience in a technical, engineering, or r&d role         strong ability and desire to solve problems, multi-task, and deliver on commitments.         insatiable thirst to understand why something works the way it does and to take complicated and complex theory and present it in simple terms    key responsibilities:            responsible for overall problem solving and conceptualization of ideas         must be able to identify the pros and cons of the technical approach and present to the clients          ability to work on own, highly self-motivated         should be able to work in fast-paced, agile, iterative experimentation projects           additional skills requirements:           creative mind-set towards problem solving          willingness and ability to learn new technologies          strong team player         excellent presentation skills  present ideas and solutions to customers         excellent written and verbal communication skills.     salary: not disclosed by recruiter  industry: it-software  /    software services  functional area: it software - application programming   ,     maintenance   role category:programming & design role:database architect/designer employment type:   permanent job, full time      keyskills   text mining  machine learning  python  r  big data developer  desired candidate profile   please refer to the job description above   education-   ug: any graduate - any specialization  company profile:   eygbs (india) private limited    ey (formerly ernst & young) is a multinational professional services firm headquartered in london, england. ey is one of the largest professional services firms in the world and is one of the \"big four\" accounting firms.\n",
      "\r\n",
      "the organisation operates as a network of member firms which are separate legal entities in individual countries. it has 231,000 employees in over 700 offices around 150 countries in the world. it provides assurance (including financial audit), tax, consulting and advisory services to companies.      download ppt photo 1                 view contact details     \n"
     ]
    }
   ],
   "source": [
    "request =  urllib2.Request(link_list[1],headers={'User-Agent' : \"Magic Browser\"})\n",
    "source =   urllib2.urlopen(request)\n",
    "bs_tree = bs4.BeautifulSoup(source)\n",
    "all_removed = bs_tree.find('div',attrs={'class':'JD'}).get_text().lower()\n",
    "print \"ting tong\" in all_removed\n",
    "print all_removed"
   ]
  },
  {
   "cell_type": "code",
   "execution_count": 44,
   "metadata": {
    "collapsed": true
   },
   "outputs": [],
   "source": [
    "import cPickle"
   ]
  },
  {
   "cell_type": "code",
   "execution_count": 47,
   "metadata": {
    "collapsed": true
   },
   "outputs": [],
   "source": [
    "with open('scraped_links.pkl','wb') as f:\n",
    "    cPickle.dump(link_list,f)"
   ]
  },
  {
   "cell_type": "code",
   "execution_count": 48,
   "metadata": {
    "collapsed": true
   },
   "outputs": [],
   "source": [
    "with open('scraped_links.pkl','r') as f:\n",
    "    job_links = cPickle.load(f)"
   ]
  },
  {
   "cell_type": "code",
   "execution_count": 79,
   "metadata": {
    "collapsed": true
   },
   "outputs": [],
   "source": [
    "skill_set = {'r': 0 ,'python' : 0,'mapreduce' : 0,'spark' : 0,'machine learning' : 0,'c++' : 0,'deep learning' : 0,'statistics' : 0}"
   ]
  },
  {
   "cell_type": "code",
   "execution_count": 52,
   "metadata": {
    "collapsed": true
   },
   "outputs": [],
   "source": [
    "import re"
   ]
  },
  {
   "cell_type": "code",
   "execution_count": 83,
   "metadata": {
    "collapsed": true
   },
   "outputs": [],
   "source": [
    "#this code runs for a long time\n",
    "\n",
    "\n",
    "tot=0\n",
    "for link in job_links:\n",
    "    try:\n",
    "        request =  urllib2.Request(link,headers={'User-Agent' : \"Magic Browser\"})\n",
    "        source = urllib2.urlopen(request).read()\n",
    "    except urllib2.HTTPError:\n",
    "        print \"HTTP Error\"\n",
    "        continue\n",
    "    except urllib2.URLError:\n",
    "        print \"URLError\"\n",
    "        continue\n",
    "    except socket.error as error:\n",
    "        print \"Connection closed\"\n",
    "        continue\n",
    "    bs_tree = bs4.BeautifulSoup(source)\n",
    "    if bs_tree.find('div',attrs={'class':'JD'}) is not None:\n",
    "        job_description = bs_tree.find('div',attrs={'class':'JD'}).get_text().lower()\n",
    "    else:\n",
    "        job_description = bs_tree.get_text()\n",
    "\n",
    "    tot+=1\n",
    "    for key in skill_set.keys():\n",
    "        if key in job_description:\n",
    "            skill_set[key] +=1\n",
    "\n",
    "    "
   ]
  },
  {
   "cell_type": "code",
   "execution_count": 84,
   "metadata": {},
   "outputs": [
    {
     "name": "stdout",
     "output_type": "stream",
     "text": [
      "{'r': 544, 'python': 358, 'deep learning': 93, 'spark': 124, 'statistics': 224, 'mapreduce': 40, 'c++': 56, 'machine learning': 398}\n"
     ]
    }
   ],
   "source": [
    "print skill_set"
   ]
  },
  {
   "cell_type": "code",
   "execution_count": 88,
   "metadata": {},
   "outputs": [
    {
     "data": {
      "image/png": "[encoded data removed]",
      "text/plain": [
       "<matplotlib.figure.Figure at 0x7fe37f50cc50>"
      ]
     },
     "metadata": {},
     "output_type": "display_data"
    }
   ],
   "source": [
    "pseries = pd.Series(skill_set)\n",
    "\n",
    "\n",
    "pseries.plot(kind = 'bar')\n",
    "## set the title to Score Comparison\n",
    "plt.title('Data Science Skills')\n",
    "plt.xlabel('Skills')\n",
    "plt.ylabel('Count')\n",
    "plt.show()"
   ]
  },
  {
   "cell_type": "code",
   "execution_count": null,
   "metadata": {
    "collapsed": true
   },
   "outputs": [],
   "source": []
  },
  {
   "cell_type": "code",
   "execution_count": null,
   "metadata": {
    "collapsed": true
   },
   "outputs": [],
   "source": []
  },
  {
   "cell_type": "code",
   "execution_count": null,
   "metadata": {
    "collapsed": true
   },
   "outputs": [],
   "source": []
  }
 ],
 "metadata": {
  "kernelspec": {
   "display_name": "Python 2",
   "language": "python",
   "name": "python2"
  },
  "language_info": {
   "codemirror_mode": {
    "name": "ipython",
    "version": 2
   },
   "file_extension": ".py",
   "mimetype": "text/x-python",
   "name": "python",
   "nbconvert_exporter": "python",
   "pygments_lexer": "ipython2",
   "version": "2.7.13"
  }
 },
 "nbformat": 4,
 "nbformat_minor": 2
}
